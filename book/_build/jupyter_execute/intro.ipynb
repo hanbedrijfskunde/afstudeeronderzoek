{
 "cells": [
  {
   "cell_type": "markdown",
   "metadata": {},
   "source": [
    "# Welkom in de afstudeerfase\n",
    "\n",
    "In dit boek vind je handvatten en inspiratie voor een succesvol en leerzaam afstudeertraject. Tijdens het traject zal je verschillende ontwikkelingsfases doorlopen.\n",
    "\n",
    "![Eenvoudige onderzoekscyclus](images/research-overview.png)\n",
    "\n",
    "```{tableofcontents}\n",
    "```"
   ]
  }
 ],
 "metadata": {
  "kernelspec": {
   "display_name": "Python 3",
   "language": "python",
   "name": "python3"
  },
  "language_info": {
   "codemirror_mode": {
    "name": "ipython",
    "version": 3
   },
   "file_extension": ".py",
   "mimetype": "text/x-python",
   "name": "python",
   "nbconvert_exporter": "python",
   "pygments_lexer": "ipython3",
   "version": "3.12.1"
  }
 },
 "nbformat": 4,
 "nbformat_minor": 2
}