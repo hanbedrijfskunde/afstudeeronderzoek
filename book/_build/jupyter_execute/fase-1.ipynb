{
 "cells": [
  {
   "cell_type": "markdown",
   "id": "f078b87c",
   "metadata": {},
   "source": [
    "# Fase 1 - Preparation\n",
    "\n",
    "- Begrijp de eindcriteria en de bijbehorende kwaliteitsniveau's?\n",
    "- Heb je alle formele zaken geregeld en toegang tot alle benodigde systemen (stagecontract, inschrijving OSIRIS, HANDIN, ...)?\n",
    "\n",
    "```{mermaid}\n",
    "graph LR\n",
    "    Preparation --> A[\"Research topic\"]@{ shape: doc }\n",
    "    Preparation --> A1[\"Formalities\"]@{ shape: doc }\n",
    "    Preparation --> A2[\"Understanding end requirements\"]@{ shape: doc }\n",
    "    A --> Discovery\n",
    "```"
   ]
  }
 ],
 "metadata": {
  "jupytext": {
   "formats": "md:myst",
   "text_representation": {
    "extension": ".md",
    "format_name": "myst",
    "format_version": 0.13,
    "jupytext_version": "1.11.5"
   }
  },
  "kernelspec": {
   "display_name": "Python 3",
   "language": "python",
   "name": "python3"
  },
  "language_info": {
   "codemirror_mode": {
    "name": "ipython",
    "version": 3
   },
   "file_extension": ".py",
   "mimetype": "text/x-python",
   "name": "python",
   "nbconvert_exporter": "python",
   "pygments_lexer": "ipython3",
   "version": "3.12.1"
  },
  "source_map": [
   13
  ]
 },
 "nbformat": 4,
 "nbformat_minor": 5
}