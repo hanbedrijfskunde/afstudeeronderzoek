{
 "cells": [
  {
   "cell_type": "markdown",
   "metadata": {},
   "source": [
    "# Fase 1 - Preparation\n",
    "\n",
    "- Begrijp de eindcriteria en de bijbehorende kwaliteitsniveau's?\n",
    "- Heb je alle formele zaken geregeld en toegang tot alle benodigde systemen (stagecontract, inschrijving OSIRIS, HANDIN, ...)?\n",
    "- Kun je met je opdrachtgever een volwassen inhoudelijk gesprek voeren over alle relevante **bedrijfskundige** onderwerpen van je onderzoek?\n",
    "- Begrijp je hoe het probleem dat je gaat onderzoeken samenhangt met de huidige ontwikkelingen binnen en buiten de organisatie?\n",
    "\n",
    "![Output preparation fase](images/preparation.png)\n",
    "\n",
    "## Eindcriteria\n",
    "\n",
    ":::{admonition} Opdracht 1\n",
    "Kijk <a href=\"https://hanbedrijfskunde.github.io/afstuderen/#jasper-van-dijk\" target=\"_blank\">hier</a> en bepaal welke persona's het dichtst bij jouw aansluiten. Beschrijf waarom je dit vindt. Stel daarna je eigen persona samen.\n",
    ":::\n",
    "\n",
    ":::{admonition} Opdracht 2\n",
    "\n",
    "```{figure} images/six-cap.jpg\n",
    "---\n",
    "name: six-caps\n",
    "---\n",
    "Het six capital model voor waardecreatie. Uit: {cite}`ifrs_six_caps_model_nodate`\n",
    "```\n",
    "\n",
    "```{figure} images/six-caps-example.png\n",
    "---\n",
    "name: six-caps-example\n",
    "---\n",
    "Voorbeeld uitwerking six capital model. Uit: {cite}`pigatto2023disclosing`\n",
    "```\n",
    ":::\n",
    "\n",
    ":::{admonition} Opdracht 3\n",
    "```{figure} images/problem-framing.jpg\n",
    "---\n",
    "name: problem-framing\n",
    "---\n",
    "Voorbeeld probleemformulering. Uit: {cite}`atlassian_problem_nodate`\n",
    "```\n",
    "\n",
    ":::\n"
   ]
  }
 ],
 "metadata": {
  "language_info": {
   "codemirror_mode": {
    "name": "ipython",
    "version": 3
   },
   "file_extension": ".py",
   "mimetype": "text/x-python",
   "name": "python",
   "nbconvert_exporter": "python",
   "pygments_lexer": "ipython3",
   "version": "3.12.1"
  }
 },
 "nbformat": 4,
 "nbformat_minor": 2
}