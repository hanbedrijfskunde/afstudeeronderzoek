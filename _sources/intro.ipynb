{
 "cells": [
  {
   "cell_type": "markdown",
   "metadata": {},
   "source": [
    "# Werkboek Afstuderen HAN Bedrijfskunde\n",
    "\n",
    "In dit werkboek vind je handvatten en inspiratie voor een succesvol en leerzaam afstudeertraject.\n",
    "\n",
    "## De onderzoekscyclus\n",
    "Wanneer je aan je afstudeeronderzoek voor HBO Bedrijfskunde begint, doorloop je doorgaans een cyclisch proces dat je helpt om stapsgewijs tot een valide en praktisch toepasbare uitkomst te komen. In {numref}`research-overview` is dit proces schematisch weergegeven in de vorm van zeven fasen: **Preparation**, **Discovery**, **Analysis**, **Writing**, **Publication**, **Outreach** en **Assessment**. Hieronder lichten we elk onderdeel kort toe.\n",
    "\n",
    "```{figure} images/research-overview.png\n",
    "---\n",
    "name: research-overview\n",
    "---\n",
    "De onderzoekscyclus.\n",
    "```\n",
    "\n",
    "### 1. Preparation\n",
    "In de **Preparation**-fase leg je de basis voor je onderzoek. Je oriënteert je op het (bedrijfs)probleem, bepaalt het algemene thema en verdiept je in de formele eisen van de opleiding en de opdrachtgever. Denk aan:  \n",
    "- **Onderzoeksonderwerp:** Welke actuele ontwikkelingen in jouw vakgebied of organisatie zijn interessant om te onderzoeken?  \n",
    "- **Formele randvoorwaarden:** Wat zijn de eisen vanuit je opleiding, stagebedrijf of opdrachtgever? (Bijv. vertrouwelijkheid, deadlines, omvang van het onderzoek.)  \n",
    "- **Einddoelen en wensen:** Hoe ziet een succesvol eindresultaat eruit, en op welke manier wordt dit straks beoordeeld?\n",
    "\n",
    "### 2. Discovery\n",
    "Zodra je je onderwerp en kaders hebt bepaald, ga je in de **Discovery**-fase op zoek naar de kern van het probleem. Je verzamelt (voor)kennis over het onderwerp, bijvoorbeeld via literatuuronderzoek, gesprekken met betrokkenen en analyse van bestaande bedrijfsgegevens. Hieruit rollen vaak eerste inzichten of “discoveries” die je leiden naar het precieze vraagstuk. \n",
    "\n",
    "### 3. Analysis\n",
    "Met een heldere onderzoeksvraag voor ogen begint de **Analysis**. Je bepaalt welke **theoretische kaders** je nodig hebt (bijvoorbeeld modellen uit de bedrijfskunde) en welke **empirische methoden** (bijv. enquêtes, interviews, data-analyses) geschikt zijn om je vraag te beantwoorden. Je voert vervolgens de dataverzameling en -verwerking uit en trekt (voorlopige) conclusies op basis van je bevindingen.\n",
    "\n",
    "### 4. Writing\n",
    "Tijdens of na de analysefase start je met **Writing**: het gestructureerd uitschrijven van je onderzoeksrapport of scriptie. Je legt uit welke stappen je hebt gezet, onderbouwt je keuzes en presenteert je resultaten. Deze fase kan overlappen met Analysis, omdat je tijdens het schrijven soms beseft dat je extra data nodig hebt of je methode moet aanscherpen.\n",
    "\n",
    "### 5. Publication\n",
    "Zodra de conceptversie van je rapport klaar is, volgt de **Publication**-fase. “Publiceren” betekent hier dat je het formeel inlevert bij je opleiding of bedrijf. Ook kun je een presentatie of workshop geven om je bevindingen te delen.\n",
    "\n",
    "### 6. Outreach\n",
    "Hierna komt de **Outreach**-fase: het actief onder de aandacht brengen van je uitkomsten bij relevante doelgroepen. Dat kan intern (bijvoorbeeld bij het management) of extern (bij vakgenoten of in een brancheplatform). Het idee is dat jouw onderzoek niet in de kast blijft liggen, maar anderen inspireert of aanzet tot actie.\n",
    "\n",
    "### 7. Assessment\n",
    "Tot slot volgt de **Assessment**: je scriptie en eventuele presentatie worden beoordeeld, je rondt feedbackrondes af en evalueert de opbrengsten. In een bedrijfscontext kan dit ook betekenen dat je samen met collega’s of je opdrachtgever bespreekt hoe de resultaten te implementeren zijn. Na afronding van deze fase begint de cyclus vaak opnieuw bij **Preparation**, maar dan met nieuwe vragen of vervolgonderzoek. Dit kan in sommige gevallen betekenen dat je na je afstuderen verder je in dienst van de organisatie jouw adviezen mag helpen implementeren en de doelstellingen mag realiseren.\n",
    "\n",
    "**Conclusie**  \n",
    "Deze onderzoekscyclus is dus geen strak lineair stappenplan maar eerder een iteratief proces: tijdens **Analysis** kun je weer iets ontdekken dat teruggrijpt op **Discovery**, of in de **Writing**-fase ontdek je dat bepaalde onderdelen extra uitwerking behoeven. Door in elke fase even stil te staan bij je voortgang, houd je grip op de kwaliteit en relevantie van je afstudeerwerk.\n",
    "\n",
    "Voor je Plan van Aanpak zijn met name de eerste drie fases van de onderzoekscyclus het belangrijkst. In de volgende hoofdstukken zoomen daarom we specifiek in op deze fasen en bespreken we welke sub­stappen daarin passen. Succes!"
   ]
  }
 ],
 "metadata": {
  "kernelspec": {
   "display_name": "Python 3",
   "language": "python",
   "name": "python3"
  },
  "language_info": {
   "codemirror_mode": {
    "name": "ipython",
    "version": 3
   },
   "file_extension": ".py",
   "mimetype": "text/x-python",
   "name": "python",
   "nbconvert_exporter": "python",
   "pygments_lexer": "ipython3",
   "version": "3.12.1"
  }
 },
 "nbformat": 4,
 "nbformat_minor": 2
}
