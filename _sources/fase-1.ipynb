{
 "cells": [
  {
   "cell_type": "markdown",
   "metadata": {},
   "source": [
    "# Fase 1 - Discovery\n",
    "Some **text**!\n",
    "\n",
    ":::{admonition} Here's my title\n",
    ":class: tip\n",
    "\n",
    "Here's my admonition content.{sup}`1`\n",
    ":::"
   ]
  }
 ],
 "metadata": {
  "language_info": {
   "name": "python"
  }
 },
 "nbformat": 4,
 "nbformat_minor": 2
}
